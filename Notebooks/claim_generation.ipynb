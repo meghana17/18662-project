{
  "nbformat": 4,
  "nbformat_minor": 0,
  "metadata": {
    "colab": {
      "name": "claim_generation.ipynb",
      "provenance": []
    },
    "kernelspec": {
      "name": "python3",
      "display_name": "Python 3"
    },
    "language_info": {
      "name": "python"
    }
  },
  "cells": [
    {
      "cell_type": "code",
      "source": [
        "!pip install -q stanza"
      ],
      "metadata": {
        "id": "CjQWabQwCZCo"
      },
      "execution_count": null,
      "outputs": []
    },
    {
      "cell_type": "code",
      "source": [
        "!pip install -q transformers"
      ],
      "metadata": {
        "id": "Yr_twapHCheD"
      },
      "execution_count": 2,
      "outputs": []
    },
    {
      "cell_type": "code",
      "source": [
        "!pip install -q sentencepiece"
      ],
      "metadata": {
        "id": "OYonSzcCCjVY"
      },
      "execution_count": null,
      "outputs": []
    },
    {
      "cell_type": "code",
      "source": [
        "!pip install -q simpletransformers"
      ],
      "metadata": {
        "id": "MjRV4SGrCk1y"
      },
      "execution_count": null,
      "outputs": []
    },
    {
      "cell_type": "code",
      "source": [
        "!pip install -q sense2vec"
      ],
      "metadata": {
        "id": "sa0aixKZCmP9"
      },
      "execution_count": null,
      "outputs": []
    },
    {
      "cell_type": "code",
      "execution_count": null,
      "metadata": {
        "id": "KThyVl9vCVer"
      },
      "outputs": [],
      "source": [
        "!git clone https://github.com/meghana17/18662-project.git"
      ]
    },
    {
      "cell_type": "code",
      "source": [
        "!mkdir -p /content/18662-project/output/intermediate/"
      ],
      "metadata": {
        "id": "crwnJ24GHjvz"
      },
      "execution_count": 9,
      "outputs": []
    },
    {
      "cell_type": "code",
      "source": [
        "!mkdir -p /content/18662-project/data"
      ],
      "metadata": {
        "id": "XZWXkxqvIDmj"
      },
      "execution_count": 10,
      "outputs": []
    },
    {
      "cell_type": "code",
      "source": [
        "# Copy climate_train_processed,json and climate_dev_processed.json to /data\n",
        "!python /content/18662-project/Claim_Generation/Extract_NERs.py \\\n",
        "    --train_path /content/18662-project/data/climate_train_processed.json \\\n",
        "    --dev_path /content/18662-project/data/climate_dev_processed.json \\\n",
        "    --save_path /content/18662-project/output/intermediate/"
      ],
      "metadata": {
        "id": "8Mm8kTMQH6Ct"
      },
      "execution_count": null,
      "outputs": []
    },
    {
      "cell_type": "code",
      "source": [
        "# QA generation fails without this\n",
        "import nltk\n",
        "nltk.download('punkt')"
      ],
      "metadata": {
        "id": "m3Wl9oJ-IqfV"
      },
      "execution_count": null,
      "outputs": []
    },
    {
      "cell_type": "code",
      "source": [
        "!python /content/18662-project/Claim_Generation/Generate_QAs.py \\\n",
        "    --train_path /content/18662-project/data/climate_train_processed.json \\\n",
        "    --dev_path /content/18662-project/data/climate_dev_processed.json \\\n",
        "    --data_split train \\\n",
        "    --entity_dict /content/18662-project/output/intermediate/entity_dict_train.json \\\n",
        "    --save_path /content/18662-project/output/intermediate/precompute_QAs_train.json"
      ],
      "metadata": {
        "id": "yyHXLu-hI7nY"
      },
      "execution_count": null,
      "outputs": []
    },
    {
      "cell_type": "code",
      "source": [
        "!python /content/18662-project/Claim_Generation/Generate_QAs.py \\\n",
        "    --train_path /content/18662-project/data/climate_train_processed.json \\\n",
        "    --dev_path /content/18662-project/data/climate_dev_processed.json \\\n",
        "    --data_split dev \\\n",
        "    --entity_dict /content/18662-project/output/intermediate/entity_dict_dev.json \\\n",
        "    --save_path /content/18662-project/output/intermediate/precompute_QAs_dev.json"
      ],
      "metadata": {
        "id": "qiUnDMG9JA-H"
      },
      "execution_count": null,
      "outputs": []
    },
    {
      "cell_type": "code",
      "source": [
        "!mkdir /content/18662-project/dependencies"
      ],
      "metadata": {
        "id": "AzrQc_sLJUph"
      },
      "execution_count": 15,
      "outputs": []
    },
    {
      "cell_type": "code",
      "source": [
        "!mkdir /content/18662-project/dependencies/QA2D_model"
      ],
      "metadata": {
        "id": "0Ya7mfUzJYzR"
      },
      "execution_count": 16,
      "outputs": []
    },
    {
      "cell_type": "code",
      "source": [
        "# Download the QA2D model, pre-trained and fine-tuned on SQuaD datset\n",
        "!gsutil cp gs://few-shot-fact-verification/QA2D_model/* /content/18662-project/dependencies/QA2D_model"
      ],
      "metadata": {
        "id": "uRf-jG2VJZSd"
      },
      "execution_count": null,
      "outputs": []
    },
    {
      "cell_type": "code",
      "source": [
        "!python /content/18662-project/Claim_Generation/Claim_Generation.py \\\n",
        "    --split train \\\n",
        "    --train_path /content/18662-project/data/climate_train_processed.json \\\n",
        "    --dev_path /content/18662-project/data/climate_train_processed.json \\\n",
        "    --entity_dict /content/18662-project/output/intermediate/entity_dict_train.json \\\n",
        "    --QA_path /content/18662-project/output/intermediate/precompute_QAs_train.json \\\n",
        "    --QA2D_model_path /content/18662-project/dependencies/QA2D_model \\\n",
        "    --sense_to_vec_path /content/drive/MyDrive/18662/Project/s2v_old \\\n",
        "    --save_path /content/18662-project/output/SUPPORTED_claims.json \\\n",
        "    --claim_type SUPPORTED"
      ],
      "metadata": {
        "id": "FRWvhHJjJrG8"
      },
      "execution_count": null,
      "outputs": []
    },
    {
      "cell_type": "code",
      "source": [
        "!python /content/18662-project/Claim_Generation/Claim_Generation.py \\\n",
        "    --split train \\\n",
        "    --train_path /content/18662-project/data/climate_train_processed.json \\\n",
        "    --dev_path /content/18662-project/data/climate_train_processed.json \\\n",
        "    --entity_dict /content/18662-project/output/intermediate/entity_dict_train.json \\\n",
        "    --QA_path /content/18662-project/output/intermediate/precompute_QAs_train.json \\\n",
        "    --QA2D_model_path /content/18662-project/dependencies/QA2D_model \\\n",
        "    --sense_to_vec_path /content/drive/MyDrive/18662/Project/s2v_old \\\n",
        "    --save_path /content/18662-project/output/REFUTED_claims.json \\\n",
        "    --claim_type REFUTED"
      ],
      "metadata": {
        "id": "wPwgWiFuJtMl"
      },
      "execution_count": null,
      "outputs": []
    }
  ]
}