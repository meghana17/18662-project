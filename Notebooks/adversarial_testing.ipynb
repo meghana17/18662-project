{
  "nbformat": 4,
  "nbformat_minor": 0,
  "metadata": {
    "colab": {
      "name": "adversarial_testing.ipynb",
      "provenance": []
    },
    "kernelspec": {
      "name": "python3",
      "display_name": "Python 3"
    },
    "language_info": {
      "name": "python"
    }
  },
  "cells": [
    {
      "cell_type": "code",
      "execution_count": null,
      "metadata": {
        "id": "EteGs2e8U4hq"
      },
      "outputs": [],
      "source": [
        "!pip install -q transformers"
      ]
    },
    {
      "cell_type": "code",
      "source": [
        "from transformers import AutoTokenizer, AutoModelForSequenceClassification\n",
        "import torch"
      ],
      "metadata": {
        "id": "4gX7teBVVHDd"
      },
      "execution_count": null,
      "outputs": []
    },
    {
      "cell_type": "code",
      "source": [
        "# Load model and tokenizer\n",
        "model = AutoModelForSequenceClassification.from_pretrained(\"amandakonet/climatebert-fact-checking\")\n",
        "tokenizer = AutoTokenizer.from_pretrained(\"amandakonet/climatebert-fact-checking\")"
      ],
      "metadata": {
        "id": "t-8VFTCXVHrg"
      },
      "execution_count": null,
      "outputs": []
    },
    {
      "cell_type": "code",
      "source": [
        "features = tokenizer(['Global warming will not driving polar bears toward extinction'], \n",
        "                   ['Rising global temperatures, caused by the greenhouse effect, contribute to habitat destruction, endangering various species, such as the polar bear'],  \n",
        "                   padding='max_length', truncation=True, return_tensors=\"pt\", max_length=512)\n",
        "\n",
        "model.eval()\n",
        "with torch.no_grad():\n",
        "   scores = model(**features).logits\n",
        "   label_mapping = ['REFUTED', 'SUPPORTED', 'NEI']\n",
        "   labels = [label_mapping[score_max] for score_max in scores.argmax(dim=1)]\n",
        "   print(labels)"
      ],
      "metadata": {
        "id": "lmg1y53xU-xc"
      },
      "execution_count": null,
      "outputs": []
    }
  ]
}