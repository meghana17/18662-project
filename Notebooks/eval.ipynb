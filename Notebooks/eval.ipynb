{
  "nbformat": 4,
  "nbformat_minor": 0,
  "metadata": {
    "colab": {
      "name": "eval.ipynb",
      "provenance": []
    },
    "kernelspec": {
      "name": "python3",
      "display_name": "Python 3"
    },
    "language_info": {
      "name": "python"
    }
  },
  "cells": [
    {
      "cell_type": "code",
      "execution_count": null,
      "metadata": {
        "id": "YIhSkgKfMiIV"
      },
      "outputs": [],
      "source": [
        "!pip install -q transformers"
      ]
    },
    {
      "cell_type": "code",
      "source": [
        "!pip install -q datasets"
      ],
      "metadata": {
        "id": "_RHqnEZcNFV5"
      },
      "execution_count": null,
      "outputs": []
    },
    {
      "cell_type": "code",
      "source": [
        "import json\n",
        "import random\n",
        "from datasets import Dataset\n",
        "from transformers import AutoTokenizer, AutoModelForSequenceClassification\n",
        "import torch\n",
        "from torch.utils.data import DataLoader"
      ],
      "metadata": {
        "id": "hODAp1e1N7WR"
      },
      "execution_count": 18,
      "outputs": []
    },
    {
      "cell_type": "code",
      "source": [
        "f = open(\"/content/climate_dev_processed.json\")\n",
        "climate_dev = json.load(f)"
      ],
      "metadata": {
        "id": "__-D8vvENHDz"
      },
      "execution_count": 19,
      "outputs": []
    },
    {
      "cell_type": "code",
      "source": [
        "for claim in climate_dev:\n",
        "  if claim['label']=='REFUTED':\n",
        "    claim['label'] = 0\n",
        "  if claim['label']=='SUPPORTED':\n",
        "    claim['label'] = 1\n",
        "  if claim['label']=='NEI':\n",
        "    claim['label'] = 2"
      ],
      "metadata": {
        "id": "ja72tl6qPdoE"
      },
      "execution_count": 20,
      "outputs": []
    },
    {
      "cell_type": "code",
      "source": [
        "claim_list = []\n",
        "evidence_list = []\n",
        "label_list = []\n",
        "for claim in climate_dev:\n",
        "  claim_list.append(claim['claim'])\n",
        "  evidence_list.append(claim['context'])\n",
        "  label_list.append(claim['label'])\n",
        "\n",
        "test_dict = {'claim':claim_list, 'evidence':evidence_list, 'label':label_list}"
      ],
      "metadata": {
        "id": "n8Wtq22QPm27"
      },
      "execution_count": 21,
      "outputs": []
    },
    {
      "cell_type": "code",
      "source": [
        "test_dataset = Dataset.from_dict(test_dict)"
      ],
      "metadata": {
        "id": "pf6xLoW4PtN0"
      },
      "execution_count": 22,
      "outputs": []
    },
    {
      "cell_type": "code",
      "source": [
        "tokenizer = AutoTokenizer.from_pretrained(\"amandakonet/climatebert-fact-checking\")\n",
        "\n",
        "def tokenize_function(examples):\n",
        "  return tokenizer(examples[\"claim\"],examples[\"evidence\"],padding=\"max_length\", truncation=True)\n",
        "\n",
        "test_tokenized_datasets = test_dataset.map(tokenize_function, batched=True)"
      ],
      "metadata": {
        "id": "gqikfg31PzDF"
      },
      "execution_count": null,
      "outputs": []
    },
    {
      "cell_type": "code",
      "source": [
        "test_tokenized_datasets = test_tokenized_datasets.remove_columns([\"claim\"])\n",
        "test_tokenized_datasets = test_tokenized_datasets.remove_columns([\"evidence\"])\n",
        "test_tokenized_datasets = test_tokenized_datasets.rename_column(\"label\", \"labels\")\n",
        "test_tokenized_datasets.set_format(\"torch\")"
      ],
      "metadata": {
        "id": "ZnfGmLLtQwO1"
      },
      "execution_count": 24,
      "outputs": []
    },
    {
      "cell_type": "code",
      "source": [
        "eval_dataloader = DataLoader(test_tokenized_datasets, batch_size=16)"
      ],
      "metadata": {
        "id": "yS08uLr0Q0lF"
      },
      "execution_count": 28,
      "outputs": []
    },
    {
      "cell_type": "code",
      "source": [
        "model = AutoModelForSequenceClassification.from_pretrained(\"amandakonet/climatebert-fact-checking\")\n",
        "device = torch.device(\"cuda\") if torch.cuda.is_available() else torch.device(\"cpu\")\n",
        "model = model.to(device)"
      ],
      "metadata": {
        "id": "UChD3yMjQijV"
      },
      "execution_count": 29,
      "outputs": []
    },
    {
      "cell_type": "code",
      "source": [
        "model.eval()\n",
        "eval_labels = []\n",
        "with torch.no_grad():\n",
        "   for batch in eval_dataloader:\n",
        "        batch = {k: v.to(device) for k, v in batch.items()}\n",
        "        outputs = model(**batch).logits\n",
        "   \n",
        "        label_mapping = ['SUPPORTED', 'REFUTED', 'NEI']\n",
        "        labels = [label_mapping[score_max] for score_max in outputs.argmax(dim=1)]\n",
        "        eval_labels += labels\n",
        "        print(labels)"
      ],
      "metadata": {
        "id": "3udcgG52OnPK"
      },
      "execution_count": null,
      "outputs": []
    },
    {
      "cell_type": "code",
      "source": [
        "labels = []\n",
        "for claim in climate_dev:\n",
        "  labels.append(claim['label'])"
      ],
      "metadata": {
        "id": "kFhw1jQmSrXs"
      },
      "execution_count": 31,
      "outputs": []
    },
    {
      "cell_type": "code",
      "source": [
        "pred_labels = []\n",
        "for label in eval_labels:\n",
        "  if label=='NEI':\n",
        "    pred_labels.append(2)\n",
        "  if label=='SUPPORTED':\n",
        "    pred_labels.append(0)\n",
        "  if label=='REFUTED':\n",
        "    pred_labels.append(1)\n",
        "\n"
      ],
      "metadata": {
        "id": "zKdEa5c8S7hi"
      },
      "execution_count": 41,
      "outputs": []
    },
    {
      "cell_type": "code",
      "source": [
        "correct_idx = []\n",
        "correct = 0\n",
        "for i in range(len(labels)):\n",
        "  if pred_labels[i]!=2 and pred_labels[i]==labels[i]:\n",
        "    correct_idx.append(i)\n",
        "    correct += 1\n",
        "print(correct/len(labels))"
      ],
      "metadata": {
        "id": "e0P-LYOLZBrP"
      },
      "execution_count": null,
      "outputs": []
    },
    {
      "cell_type": "code",
      "source": [
        "print(correct_idx)"
      ],
      "metadata": {
        "colab": {
          "base_uri": "https://localhost:8080/"
        },
        "id": "IdntuInoZEnd",
        "outputId": "304bb1be-9901-4083-91f3-17b4ea7acc43"
      },
      "execution_count": 45,
      "outputs": [
        {
          "output_type": "stream",
          "name": "stdout",
          "text": [
            "[1, 5, 7, 12, 15, 19, 25, 31, 33, 46, 48, 50, 56, 57, 60, 63, 64, 65, 72, 74, 75, 78, 79, 80, 82, 85, 87, 88, 94, 97, 102, 103, 104, 105, 114, 118, 121, 125, 127, 128, 134, 146, 147, 160, 161, 163, 168, 169, 170, 174, 175, 183, 185, 186, 190, 200, 204, 211, 212, 217, 226, 230, 236, 246, 247, 253, 257, 258, 263, 264, 270, 279, 282, 283, 290, 296, 308, 310, 314, 316, 319, 334, 338, 340, 346, 348, 349, 352, 354, 362, 364, 366, 369, 370, 376, 378, 379, 380, 381, 392, 405, 410, 429, 430, 436, 438, 440, 445, 449, 452, 456, 458, 465, 466, 474, 478, 485, 491, 503, 509, 514, 518, 532, 535, 538, 540, 542, 544, 545, 547, 554, 561, 565, 572, 574, 575, 576, 582, 583, 585, 586, 587, 594, 595, 603, 608, 610, 626, 633, 641, 642, 648, 652, 654, 655, 657, 660, 666, 667, 669, 673, 676, 687, 688, 697, 699, 705, 709, 717, 724, 731, 740, 746, 757, 758, 772, 774, 784, 792, 795, 796, 803, 805, 811, 813, 815, 820, 822, 825, 826, 831, 834, 843, 846, 849, 850, 852, 858, 861, 864, 869, 870, 873, 874, 879, 883, 886, 887, 890, 893, 899, 900, 902, 904, 909, 912, 919, 921, 925, 934, 939, 951, 954, 956, 965, 972, 989, 994, 996, 998, 1007, 1013, 1015, 1021, 1023, 1031, 1032, 1044, 1046, 1047, 1051, 1054, 1055, 1064, 1073, 1081, 1092, 1098, 1099, 1117, 1120, 1126, 1133, 1135, 1141, 1157, 1161, 1167, 1168, 1172, 1177, 1183, 1186, 1197, 1198, 1202, 1204, 1207, 1209, 1211, 1228, 1235, 1240, 1244, 1253, 1256, 1262, 1270, 1278, 1279, 1284, 1286, 1292, 1296, 1297, 1302, 1303, 1304, 1311, 1317, 1318, 1324, 1327, 1332, 1333, 1334, 1348, 1349, 1355, 1358, 1359, 1360, 1364, 1365, 1375, 1377, 1380, 1384, 1385, 1389, 1391, 1392, 1403, 1413, 1426, 1428, 1431, 1432, 1436, 1446, 1448, 1449, 1457, 1461, 1465, 1466, 1477, 1479, 1485, 1496, 1497, 1502, 1503, 1507, 1508, 1510, 1513, 1523, 1524, 1525, 1532, 1533, 1542, 1544, 1545, 1547, 1549, 1551, 1552, 1554, 1558, 1564, 1569, 1570]\n"
          ]
        }
      ]
    }
  ]
}